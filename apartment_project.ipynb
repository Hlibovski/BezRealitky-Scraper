{
 "cells": [
  {
   "cell_type": "code",
   "execution_count": 2,
   "id": "771811cc-0e67-4393-b085-4906da527445",
   "metadata": {
    "tags": []
   },
   "outputs": [],
   "source": [
    "# libraries for def scrape_apartments\n",
    "import requests\n",
    "from bs4 import BeautifulSoup\n",
    "import os \n",
    "import re\n",
    "import smtplib\n",
    "import time\n",
    "import schedule\n",
    "from datetime import datetime as dt\n",
    "from email.mime.multipart import MIMEMultipart\n",
    "from email.mime.text import MIMEText"
   ]
  },
  {
   "cell_type": "code",
   "execution_count": 21,
   "id": "14480f41-a222-43ec-acb0-04158adbf916",
   "metadata": {
    "tags": []
   },
   "outputs": [],
   "source": [
    "# import smtplib\n",
    "# from email.mime.multipart import MIMEMultipart\n",
    "# from email.mime.text import MIMEText\n",
    "# from apscheduler.schedulers.blocking import BlockingScheduler"
   ]
  },
  {
   "cell_type": "markdown",
   "id": "e8da7165-2fac-4e94-84b7-56e762a43853",
   "metadata": {},
   "source": [
    "## **Scraping the apartments 🏠**"
   ]
  },
  {
   "cell_type": "markdown",
   "id": "dca3fe5d-02a8-419b-9266-22a0a3a30fce",
   "metadata": {},
   "source": [
    "#### Test for response 200"
   ]
  },
  {
   "cell_type": "code",
   "execution_count": 22,
   "id": "35c0b35d-1025-4164-9647-49a367845b6e",
   "metadata": {
    "tags": []
   },
   "outputs": [
    {
     "data": {
      "text/plain": [
       "<Response [200]>"
      ]
     },
     "execution_count": 22,
     "metadata": {},
     "output_type": "execute_result"
    }
   ],
   "source": [
    "bez_realitky_url = r\"\"\"https://www.bezrealitky.com/search?offerType=PRONAJEM&estateType=BYT&regionOsmIds=R435514&osm_value=Hlavn\n",
    "%C3%AD+m%C4%9Bsto+Praha%2C+Praha%2C+%C4%8Cesko&location=exact&currency=CZK\"\"\"\n",
    "response = requests.get(bez_realitky_url)\n",
    "response"
   ]
  },
  {
   "cell_type": "markdown",
   "id": "a0e5f14e-dbfb-4db9-86ea-c2cc41e2119c",
   "metadata": {},
   "source": [
    "### **Getting a list of articles**"
   ]
  },
  {
   "cell_type": "code",
   "execution_count": 23,
   "id": "b5015757-6248-4007-8f60-69b23abaa491",
   "metadata": {
    "tags": []
   },
   "outputs": [],
   "source": [
    "bez_realitky_url = r\"https://www.bezrealitky.com/search?offerType=PRONAJEM&estateType=BYT&regionOsmIds=R435514&osm_value=Hlavn%C3%AD+m%C4%9Bsto+Praha%2C+Praha%2C+%C4%8Cesko&location=exact&currency=CZK\"\n",
    "\n",
    "# Send a GET request and getting HTML\n",
    "response = requests.get(bez_realitky_url)\n",
    "soup = BeautifulSoup(response.text, 'html.parser')\n",
    "\n",
    "apt_list = soup.find_all(\"article\", class_=\"PropertyCard_propertyCard__moO_5 propertyCard PropertyCard_propertyCard--landscape__XvPmC\")"
   ]
  },
  {
   "cell_type": "markdown",
   "id": "ccdfb71b-aa2c-41cd-aa80-1e4d48bb7717",
   "metadata": {},
   "source": [
    "### **Getting prices 🤑**"
   ]
  },
  {
   "cell_type": "code",
   "execution_count": 24,
   "id": "76228437-53ff-48e9-94cd-745523fbe841",
   "metadata": {
    "tags": []
   },
   "outputs": [
    {
     "data": {
      "text/plain": [
       "[<span class=\"PropertyPrice_propertyPriceAmount__WdEE1\">CZK 35,000</span>,\n",
       " <span class=\"PropertyPrice_propertyPriceAdditional__5jYQ6\"> + CZK 5,000</span>,\n",
       " <span class=\"PropertyPrice_propertyPricePerMeter__IfhGa\">(<!-- -->CZK 350 / m²<!-- -->)</span>,\n",
       " <span class=\"w-100\"></span>]"
      ]
     },
     "execution_count": 24,
     "metadata": {},
     "output_type": "execute_result"
    }
   ],
   "source": [
    "\n",
    "pricess = apt_list[0].select(\"div.PropertyCard_propertyCardContent__osPAM div.PropertyPrice_propertyPrice__lthza.propertyPrice.mb-0.mt-3 span\")\n",
    "pricess"
   ]
  },
  {
   "cell_type": "code",
   "execution_count": 25,
   "id": "e7b86e81-4fa4-4b56-8cc9-55e0d1b994d7",
   "metadata": {
    "tags": []
   },
   "outputs": [
    {
     "data": {
      "text/plain": [
       "['CZK 35,000',\n",
       " 'CZK 20,000',\n",
       " 'CZK 28,000',\n",
       " 'CZK 25,000',\n",
       " 'CZK 29,000',\n",
       " 'CZK 19,900',\n",
       " 'CZK 15,600',\n",
       " 'CZK 30,000',\n",
       " 'CZK 25,000',\n",
       " 'CZK 26,000',\n",
       " 'CZK 13,000',\n",
       " 'CZK 24,000',\n",
       " 'CZK 19,600',\n",
       " 'CZK 27,500',\n",
       " 'CZK 37,000']"
      ]
     },
     "execution_count": 25,
     "metadata": {},
     "output_type": "execute_result"
    }
   ],
   "source": [
    "prices = []\n",
    "# 2 spans\n",
    "for apt in apt_list:\n",
    "    price = apt.select(\"div.PropertyCard_propertyCardContent__osPAM div.PropertyPrice_propertyPrice__lthza.propertyPrice.mb-0.mt-3 span\")\n",
    "    if len(price) == 2:\n",
    "        price1 = price[0].string.replace('\\xa0', ' ') \n",
    "        price2 = price[1].string.replace('\\xa0', ' ') \n",
    "        price_ok = f\"{price1} {price2}\".strip()\n",
    "        prices.append(price_ok)\n",
    "    else:\n",
    "        price1 = price[0].string.replace('\\xa0', ' ') \n",
    "        price_ok = f\"{price1}\".strip()\n",
    "        prices.append(price_ok)\n",
    "prices   "
   ]
  },
  {
   "cell_type": "markdown",
   "id": "9a14625c-c710-4a67-80bc-05bfa7e81991",
   "metadata": {},
   "source": [
    "#### Coverting prices to float and assigning max price"
   ]
  },
  {
   "cell_type": "code",
   "execution_count": 26,
   "id": "c361820b-aa50-4cce-bcdf-c44f2cc19286",
   "metadata": {
    "tags": []
   },
   "outputs": [
    {
     "name": "stdout",
     "output_type": "stream",
     "text": [
      "[5, 6, 10, 12]\n"
     ]
    },
    {
     "data": {
      "text/plain": [
       "['💰 CZK 19,900', '💰 CZK 15,600', '💰 CZK 13,000', '💰 CZK 19,600']"
      ]
     },
     "execution_count": 26,
     "metadata": {},
     "output_type": "execute_result"
    }
   ],
   "source": [
    "def convert_price_to_float(prices):\n",
    "    # Use regex to find all numbers in the string, including thousands separators\n",
    "    price_numbers = re.findall(r'\\d{1,3}(?:,\\d{3})*', prices)\n",
    "    \n",
    "    # Convert each part to float and remove commas\n",
    "    price_floats = [float(p.replace(',', '')) for p in price_numbers]\n",
    "    \n",
    "    # Return the sum of the two parts (if any)\n",
    "    return sum(price_floats)\n",
    "\n",
    "# Convert all prices to floats and filter for prices < 20000\n",
    "filtered_prices = {index: p for index, p in enumerate(prices) if convert_price_to_float(str(p)) < 20000}\n",
    "\n",
    "# Filtering needed indecies\n",
    "index_ok = list(filtered_prices.keys())\n",
    "print(index_ok)\n",
    "\n",
    "# # Output the filtered prices \n",
    "prices_yes = [f\"💰 {price}\" for price in filtered_prices.values()]\n",
    "prices_yes\n"
   ]
  },
  {
   "cell_type": "code",
   "execution_count": 27,
   "id": "6436bae1-3257-4e48-b86a-34bc24b7a1a4",
   "metadata": {
    "tags": []
   },
   "outputs": [],
   "source": [
    "# for i in prices:\n",
    "#     price_numbers = re.findall(r'\\d{1,3}(?:,\\d{3})*', i)\n",
    "#     print(price_numbers)\n"
   ]
  },
  {
   "cell_type": "markdown",
   "id": "0bf9ffb2-b552-4cfe-abec-20414d789ee5",
   "metadata": {},
   "source": [
    "### **Getting links 🔗**"
   ]
  },
  {
   "cell_type": "code",
   "execution_count": 28,
   "id": "3cf4c318-c8fb-4696-a5ec-83a84f46a57c",
   "metadata": {
    "tags": []
   },
   "outputs": [
    {
     "data": {
      "text/plain": [
       "['🔗 https://www.bezrealitky.com/search?offerType=PRONAJEM&estateType=BYT&regionOsmIds=R435514&osm_value=Hlavn%C3%AD+m%C4%9Bsto+Praha%2C+Praha%2C+%C4%8Cesko&location=exact&currency=CZK&id=819701&_UCR_return_href=%2Fsearch%3FofferType%3DPRONAJEM%26estateType%3DBYT%26regionOsmIds%3DR435514%26osm_value%3DHlavn%25C3%25AD%2520m%25C4%259Bsto%2520Praha%252C%2520Praha%252C%2520%25C4%258Cesko%26location%3Dexact%26currency%3DCZK',\n",
       " '🔗 https://www.bezrealitky.com/search?offerType=PRONAJEM&estateType=BYT&regionOsmIds=R435514&osm_value=Hlavn%C3%AD+m%C4%9Bsto+Praha%2C+Praha%2C+%C4%8Cesko&location=exact&currency=CZK&id=867321&_UCR_return_href=%2Fsearch%3FofferType%3DPRONAJEM%26estateType%3DBYT%26regionOsmIds%3DR435514%26osm_value%3DHlavn%25C3%25AD%2520m%25C4%259Bsto%2520Praha%252C%2520Praha%252C%2520%25C4%258Cesko%26location%3Dexact%26currency%3DCZK',\n",
       " '🔗 https://www.bezrealitky.com/search?offerType=PRONAJEM&estateType=BYT&regionOsmIds=R435514&osm_value=Hlavn%C3%AD+m%C4%9Bsto+Praha%2C+Praha%2C+%C4%8Cesko&location=exact&currency=CZK&id=645285&_UCR_return_href=%2Fsearch%3FofferType%3DPRONAJEM%26estateType%3DBYT%26regionOsmIds%3DR435514%26osm_value%3DHlavn%25C3%25AD%2520m%25C4%259Bsto%2520Praha%252C%2520Praha%252C%2520%25C4%258Cesko%26location%3Dexact%26currency%3DCZK',\n",
       " '🔗 https://www.bezrealitky.com/search?offerType=PRONAJEM&estateType=BYT&regionOsmIds=R435514&osm_value=Hlavn%C3%AD+m%C4%9Bsto+Praha%2C+Praha%2C+%C4%8Cesko&location=exact&currency=CZK&id=499429&_UCR_return_href=%2Fsearch%3FofferType%3DPRONAJEM%26estateType%3DBYT%26regionOsmIds%3DR435514%26osm_value%3DHlavn%25C3%25AD%2520m%25C4%259Bsto%2520Praha%252C%2520Praha%252C%2520%25C4%258Cesko%26location%3Dexact%26currency%3DCZK']"
      ]
     },
     "execution_count": 28,
     "metadata": {},
     "output_type": "execute_result"
    }
   ],
   "source": [
    "# HINT: Whenever there is a space in name of the class, I should use dot to get rid of this \n",
    "links = []\n",
    "for apt in apt_list:\n",
    "    link = apt.select_one(\"a\")\n",
    "    if link:\n",
    "        link_ok = link[\"href\"]\n",
    "    links.append(link_ok)\n",
    "links = [f\"🔗 {link}\" for link in links]\n",
    "links_yes = [links[p] for p in index_ok]\n",
    "links_yes"
   ]
  },
  {
   "cell_type": "markdown",
   "id": "ef61bcfb-0b15-421a-a913-2a3d0d38e7fa",
   "metadata": {},
   "source": [
    "### **Getting addresses 📍**"
   ]
  },
  {
   "cell_type": "code",
   "execution_count": 29,
   "id": "5b9d6689-f9ac-4d99-8fc4-01b5e5276a77",
   "metadata": {},
   "outputs": [
    {
     "data": {
      "text/plain": [
       "[<span class=\"PropertyCard_propertyCardAddress__hNqyR text-subheadline text-truncate\" style=\"-webkit-line-clamp:1\">Na Farkáně Ⅰ, Prague - Radlice</span>]"
      ]
     },
     "execution_count": 29,
     "metadata": {},
     "output_type": "execute_result"
    }
   ],
   "source": [
    "address = apt_list[0].select(\"div.PropertyCard_propertyCardContent__osPAM h2.PropertyCard_propertyCardHeadline___diKI.mt-md-0.mt-4.mb-0 a span.PropertyCard_propertyCardAddress__hNqyR.text-subheadline.text-truncate\")\n",
    "address"
   ]
  },
  {
   "cell_type": "code",
   "execution_count": 30,
   "id": "9e7516d3-7e92-46a9-a6d2-a62c0bed2192",
   "metadata": {},
   "outputs": [
    {
     "data": {
      "text/plain": [
       "['📍 Vítkova, Prague - Karlín',\n",
       " '📍 Suchdolské náměstí, Prague - Suchdol',\n",
       " '📍 5. května, Prague - Nusle',\n",
       " '📍 Oldřichova, Prague - Nusle']"
      ]
     },
     "execution_count": 30,
     "metadata": {},
     "output_type": "execute_result"
    }
   ],
   "source": [
    "addresses = []\n",
    "for apt in apt_list:\n",
    "    address = apt.select(\"div.PropertyCard_propertyCardContent__osPAM h2.PropertyCard_propertyCardHeadline___diKI.mt-md-0.mt-4.mb-0 a span.PropertyCard_propertyCardAddress__hNqyR.text-subheadline.text-truncate\")\n",
    "    address_ok = address[0].string\n",
    "    addresses.append(address_ok)\n",
    "addresses = [f\"📍 {address}\" for address in addresses]\n",
    "addresses_yes = [addresses[p] for p in index_ok]\n",
    "addresses_yes"
   ]
  },
  {
   "cell_type": "markdown",
   "id": "75ec8bf3-cfe0-49df-97e9-f286b6f7bf79",
   "metadata": {},
   "source": [
    "### **Getting flat configurations 🕵️‍♂️**"
   ]
  },
  {
   "cell_type": "code",
   "execution_count": 31,
   "id": "745a7a33-c66b-4b3f-aa35-77e3f64f52cd",
   "metadata": {
    "tags": []
   },
   "outputs": [
    {
     "data": {
      "text/plain": [
       "[<p class=\"mt-2 mt-md-3 mb-0 text-caption text-truncate-multiple\" style=\"-webkit-line-clamp:2\">Parking • Cellar 20 m²</p>]"
      ]
     },
     "execution_count": 31,
     "metadata": {},
     "output_type": "execute_result"
    }
   ],
   "source": [
    "info = apt_list[0].select(\"div.PropertyCard_propertyCardContent__osPAM ul.FeaturesList_featuresList__75Wet.featuresList.mt-3 li\")\n",
    "config = apt_list[0].select(\"div.PropertyCard_propertyCardContent__osPAM p.mt-2.mt-md-3.mb-0.text-caption.text-truncate-multiple\")\n",
    "info2_image = \"📐\"\n",
    "#print(info)\n",
    "#print(config)\n",
    "config"
   ]
  },
  {
   "cell_type": "markdown",
   "id": "9d117bf0-12c8-4b35-9f63-98a7227084d0",
   "metadata": {},
   "source": [
    "### Info (info_flats and info_squares)"
   ]
  },
  {
   "cell_type": "code",
   "execution_count": 32,
   "id": "1e23ce16-98b4-44b8-9840-363daad9654b",
   "metadata": {
    "tags": []
   },
   "outputs": [
    {
     "data": {
      "text/plain": [
       "['📐 Studio 31 m²', '📐 Studio 22 m²', '📐 1 bedroom 44 m²', '📐 2+kk 46 m²']"
      ]
     },
     "execution_count": 32,
     "metadata": {},
     "output_type": "execute_result"
    }
   ],
   "source": [
    "\n",
    "info_flats = []\n",
    "info_squares = []\n",
    "info = []\n",
    "\n",
    "for apt in apt_list:\n",
    "    # info_flats\n",
    "    info_flat_art = apt.select(\"div.PropertyCard_propertyCardContent__osPAM ul.FeaturesList_featuresList__75Wet.featuresList.mt-3 li span\")\n",
    "    info_square_art = apt.select(\"div.PropertyCard_propertyCardContent__osPAM ul.FeaturesList_featuresList__75Wet.featuresList.mt-3 li\")\n",
    "    \n",
    "### info_flats\n",
    "    if len(info_flat_art) > 1:  # Make sure there are enough spans\n",
    "        info_flat = info_flat_art[1]\n",
    "        info_flats.append(info_flat.text)  # Append the current flat's text\n",
    "\n",
    "    if len(info_square_art) > 1:  # Make sure there's a second list item\n",
    "        info_square = info_square_art[1].text\n",
    "        info_square_ok = info_square.replace('\\xa0', ' ')\n",
    "        info_squares.append(info_square_ok)  # Append the current square's text\n",
    "\n",
    "    # Append the current flat and square info into the info list\n",
    "    if len(info_flats) > 0 and len(info_squares) > 0:\n",
    "        info.append([info2_image, info_flats[-1], info_squares[-1]])  # Use the most recent elements from the lists\n",
    "    \n",
    "concat_info = [' '.join(inner) for inner in info]\n",
    "info_yes = [concat_info[p] for p in index_ok]\n",
    "info_yes    "
   ]
  },
  {
   "cell_type": "markdown",
   "id": "672f9e29-90f9-43e5-9eb9-130453e66e25",
   "metadata": {},
   "source": [
    "### Configs"
   ]
  },
  {
   "cell_type": "code",
   "execution_count": 33,
   "id": "0d4ca042-a594-42ce-a5d0-7878c95e5519",
   "metadata": {
    "tags": []
   },
   "outputs": [
    {
     "data": {
      "text/plain": [
       "['🤔 Public transport 1 minute of walking • Equipped • Lift',\n",
       " '🤔 Public transport 1 minute of walking • Equipped • Lift • Parking • Cellar 6 m²',\n",
       " '🤔 Public transport 6 minutes of walking • Lift • Balcony 2 m²',\n",
       " '🤔 Partially equipped • Cellar 3 m²']"
      ]
     },
     "execution_count": 33,
     "metadata": {},
     "output_type": "execute_result"
    }
   ],
   "source": [
    "configs = []\n",
    "for apt in apt_list:\n",
    "    config = apt.select(\"div.PropertyCard_propertyCardContent__osPAM p.mt-2.mt-md-3.mb-0.text-caption.text-truncate-multiple\")\n",
    "    config_ok = config[0].text\n",
    "    configs.append(config_ok)\n",
    "configs    \n",
    "configs_good = [f\"🤔 {con}\" for con in configs]\n",
    "configs_good\n",
    "configs_yes = [configs_good[p] for p in index_ok]\n",
    "configs_yes"
   ]
  },
  {
   "cell_type": "markdown",
   "id": "54c57325-d175-4d44-89be-6ed5d11e898b",
   "metadata": {},
   "source": [
    "### Divider"
   ]
  },
  {
   "cell_type": "code",
   "execution_count": 34,
   "id": "090a60d3-a8f2-4449-b709-bbb38ced15c3",
   "metadata": {
    "tags": []
   },
   "outputs": [],
   "source": [
    "divider = \"┅┅┅┅┅┅┅┅┅┅┅┅┅┅┅┅┅┅┅┅┅┅┅┅┅┅┅┅┅┅┅┅┅┅┅┅┅┅┅┅┅┅┅┅┅┅┅┅┅┅┅┅┅┅┅┅┅┅┅┅┅┅┅┅┅┅┅┅┅┅┅┅┅┅┅┅┅┅┅┅┅┅┅┅┅┅┅┅┅┅┅┅┅┅┅┅┅\""
   ]
  },
  {
   "cell_type": "markdown",
   "id": "c99581f4-017d-494c-883f-579f500aeb8d",
   "metadata": {},
   "source": [
    "## **Concateneting 💯**"
   ]
  },
  {
   "cell_type": "code",
   "execution_count": 35,
   "id": "2d12f00e-7915-40ab-9da8-5484dc456dea",
   "metadata": {},
   "outputs": [
    {
     "data": {
      "text/plain": [
       "'26-01-25'"
      ]
     },
     "execution_count": 35,
     "metadata": {},
     "output_type": "execute_result"
    }
   ],
   "source": [
    "today = str(dt.today().strftime('%d-%m-%y'))\n",
    "today"
   ]
  },
  {
   "cell_type": "code",
   "execution_count": 36,
   "id": "76430d03-9037-4e15-b95c-42b930d98ac3",
   "metadata": {
    "tags": []
   },
   "outputs": [
    {
     "name": "stdout",
     "output_type": "stream",
     "text": [
      "🏠 NEW Flats from 26-01-25 under 20K CZK/month:\n",
      "\n",
      "Address: 📍 Vítkova, Prague - Karlín\n",
      "Info: 📐 Studio 31 m²\n",
      "Config: 🤔 Public transport 1 minute of walking • Equipped • Lift\n",
      "Price: 💰 CZK 19,900\n",
      "Link: 🔗 https://www.bezrealitky.com/search?offerType=PRONAJEM&estateType=BYT&regionOsmIds=R435514&osm_value=Hlavn%C3%AD+m%C4%9Bsto+Praha%2C+Praha%2C+%C4%8Cesko&location=exact&currency=CZK&id=819701&_UCR_return_href=%2Fsearch%3FofferType%3DPRONAJEM%26estateType%3DBYT%26regionOsmIds%3DR435514%26osm_value%3DHlavn%25C3%25AD%2520m%25C4%259Bsto%2520Praha%252C%2520Praha%252C%2520%25C4%258Cesko%26location%3Dexact%26currency%3DCZK\n",
      "\n",
      "──────────────────────────────────────────────────\n",
      "Address: 📍 Suchdolské náměstí, Prague - Suchdol\n",
      "Info: 📐 Studio 22 m²\n",
      "Config: 🤔 Public transport 1 minute of walking • Equipped • Lift • Parking • Cellar 6 m²\n",
      "Price: 💰 CZK 15,600\n",
      "Link: 🔗 https://www.bezrealitky.com/search?offerType=PRONAJEM&estateType=BYT&regionOsmIds=R435514&osm_value=Hlavn%C3%AD+m%C4%9Bsto+Praha%2C+Praha%2C+%C4%8Cesko&location=exact&currency=CZK&id=867321&_UCR_return_href=%2Fsearch%3FofferType%3DPRONAJEM%26estateType%3DBYT%26regionOsmIds%3DR435514%26osm_value%3DHlavn%25C3%25AD%2520m%25C4%259Bsto%2520Praha%252C%2520Praha%252C%2520%25C4%258Cesko%26location%3Dexact%26currency%3DCZK\n",
      "\n",
      "──────────────────────────────────────────────────\n",
      "Address: 📍 5. května, Prague - Nusle\n",
      "Info: 📐 1 bedroom 44 m²\n",
      "Config: 🤔 Public transport 6 minutes of walking • Lift • Balcony 2 m²\n",
      "Price: 💰 CZK 13,000\n",
      "Link: 🔗 https://www.bezrealitky.com/search?offerType=PRONAJEM&estateType=BYT&regionOsmIds=R435514&osm_value=Hlavn%C3%AD+m%C4%9Bsto+Praha%2C+Praha%2C+%C4%8Cesko&location=exact&currency=CZK&id=645285&_UCR_return_href=%2Fsearch%3FofferType%3DPRONAJEM%26estateType%3DBYT%26regionOsmIds%3DR435514%26osm_value%3DHlavn%25C3%25AD%2520m%25C4%259Bsto%2520Praha%252C%2520Praha%252C%2520%25C4%258Cesko%26location%3Dexact%26currency%3DCZK\n",
      "\n",
      "──────────────────────────────────────────────────\n",
      "Address: 📍 Oldřichova, Prague - Nusle\n",
      "Info: 📐 2+kk 46 m²\n",
      "Config: 🤔 Partially equipped • Cellar 3 m²\n",
      "Price: 💰 CZK 19,600\n",
      "Link: 🔗 https://www.bezrealitky.com/search?offerType=PRONAJEM&estateType=BYT&regionOsmIds=R435514&osm_value=Hlavn%C3%AD+m%C4%9Bsto+Praha%2C+Praha%2C+%C4%8Cesko&location=exact&currency=CZK&id=499429&_UCR_return_href=%2Fsearch%3FofferType%3DPRONAJEM%26estateType%3DBYT%26regionOsmIds%3DR435514%26osm_value%3DHlavn%25C3%25AD%2520m%25C4%259Bsto%2520Praha%252C%2520Praha%252C%2520%25C4%258Cesko%26location%3Dexact%26currency%3DCZK\n",
      "\n",
      "──────────────────────────────────────────────────\n",
      "\n",
      "<class 'str'>\n"
     ]
    }
   ],
   "source": [
    "flat = []\n",
    "divider = \"\\n\" + \"─\" * 50 + \"\\n\"  # Create a more pronounced divider\n",
    "header = f\"🏠 NEW Flats from {today} under 20K CZK/month:\\n\" + \"\\n\"  # Header for the output\n",
    "flat.append(header)\n",
    "\n",
    "for i in range(len(info_yes)):\n",
    "    flat.append(f\"Address: {addresses_yes[i]}\\n\")\n",
    "    flat.append(f\"Info: {info_yes[i]}\\n\")\n",
    "    flat.append(f\"Config: {configs_yes[i]}\\n\")\n",
    "    flat.append(f\"Price: {prices_yes[i]}\\n\")\n",
    "    flat.append(f\"Link: {links_yes[i]}\\n\")\n",
    "    flat.append(divider)  # Add divider after each entry\n",
    "\n",
    "# Join all the elements into a single string\n",
    "flat = \"\".join(flat)\n",
    "\n",
    "# Output the formatted string\n",
    "print(flat)\n",
    "print(type(flat))"
   ]
  },
  {
   "cell_type": "markdown",
   "id": "0e12b358-6e74-41a5-ad21-9baf254d7157",
   "metadata": {},
   "source": [
    "## **Sending an email 📧**"
   ]
  },
  {
   "cell_type": "code",
   "execution_count": 3,
   "id": "7ca6186c-e85c-4704-8a36-cb75e130d53a",
   "metadata": {},
   "outputs": [],
   "source": [
    "sender_email = \"glebon126@email.cz\"\n",
    "receiver_email = [ 'Glebon126@gmail.com', 'Hlibovski@gmail.com', \"brylkovika@gmail.com\", \"china55060@gmail.com\",'allieformankova@gmail.com', 'alinayakymtso@gmail.com']\n",
    "# receiver_email2 = [ 'Glebon126@gmail.com', 'Hlibovski@gmail.com']\n",
    "SEZNAM_MAIL_PASSWORD = os.environ[\"SEZNAM_MAIL_PASSWORD\"]\n",
    "\n",
    "for mail in receiver_email:\n",
    "    message = MIMEMultipart()\n",
    "    message[\"From\"] = sender_email\n",
    "    message[\"To\"] = mail\n",
    "    message[\"Subject\"] = \"BezRealitky NEW Flats\"\n",
    "    \n",
    "    # Add body to email\n",
    "    body = flat\n",
    "    message.attach(MIMEText(body, 'plain'))\n",
    "    \n",
    "    # Send email\n",
    "    try:\n",
    "        with smtplib.SMTP(\"smtp.seznam.cz\", 587) as server:\n",
    "            server.starttls()  # Secure the connection\n",
    "            server.login(sender_email, SEZNAM_MAIL_PASSWORD)  # Login with email and password\n",
    "            server.send_message(message)  # Send the email\n",
    "        print(\"Email sent successfully!\")\n",
    "    except Exception as e:\n",
    "        print(f\"Error occurred: {e}\")\n",
    "    \n",
    "    # # Schedule the email to be sent daily at 8:00 AM\n",
    "    # schedule.every().day.at(\"21:51\").do(send_email)\n",
    "    \n",
    "    # # Keep the script running to check the schedule\n",
    "    # while True:\n",
    "    #     schedule.run_pending()\n",
    "    #     time.sleep(60)"
   ]
  },
  {
   "cell_type": "code",
   "execution_count": 4,
   "id": "9f87307b",
   "metadata": {},
   "outputs": [
    {
     "name": "stdout",
     "output_type": "stream",
     "text": [
      "Error: SEZNAM_MAIL_PASSWORD is not set.\n"
     ]
    }
   ],
   "source": [
    "# if password is None:\n",
    "#     print(\"Error: SEZNAM_MAIL_PASSWORD is not set.\")\n",
    "# else:\n",
    "#     print(\"Password loaded successfully.\")"
   ]
  },
  {
   "cell_type": "code",
   "execution_count": null,
   "id": "8266f97d",
   "metadata": {},
   "outputs": [],
   "source": []
  }
 ],
 "metadata": {
  "kernelspec": {
   "display_name": "Python 3",
   "language": "python",
   "name": "python3"
  },
  "language_info": {
   "codemirror_mode": {
    "name": "ipython",
    "version": 3
   },
   "file_extension": ".py",
   "mimetype": "text/x-python",
   "name": "python",
   "nbconvert_exporter": "python",
   "pygments_lexer": "ipython3",
   "version": "3.13.1"
  }
 },
 "nbformat": 4,
 "nbformat_minor": 5
}
