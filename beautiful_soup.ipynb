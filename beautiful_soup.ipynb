{
 "cells": [
  {
   "cell_type": "code",
   "execution_count": 66,
   "id": "b58f287d-c7f4-41db-b288-14d69923fb2c",
   "metadata": {},
   "outputs": [],
   "source": [
    "import requests \n",
    "# The requests module allows you to send HTTP requests using Python.\n",
    "# The HTTP request returns a Response Object with all the response data (content, encoding, status, etc).\n",
    "from bs4 import BeautifulSoup as bs \n",
    "import re\n",
    "import pandas as pd "
   ]
  },
  {
   "cell_type": "markdown",
   "id": "1f6ee010-fad0-4c61-8383-3b44574ad535",
   "metadata": {},
   "source": [
    "# Load our first page ✨"
   ]
  },
  {
   "cell_type": "code",
   "execution_count": 3,
   "id": "3f63ce1e-588c-4b53-adb3-f88cd5f8e572",
   "metadata": {},
   "outputs": [
    {
     "name": "stdout",
     "output_type": "stream",
     "text": [
      "<html>\n",
      " <head>\n",
      "  <title>\n",
      "   HTML Example\n",
      "  </title>\n",
      " </head>\n",
      " <body>\n",
      "  <div align=\"middle\">\n",
      "   <h1>\n",
      "    HTML Webpage\n",
      "   </h1>\n",
      "   <p>\n",
      "    Link to more interesting example:\n",
      "    <a href=\"https://keithgalli.github.io/web-scraping/webpage.html\">\n",
      "     keithgalli.github.io/web-scraping/webpage.html\n",
      "    </a>\n",
      "   </p>\n",
      "  </div>\n",
      "  <h2>\n",
      "   A Header\n",
      "  </h2>\n",
      "  <p>\n",
      "   <i>\n",
      "    Some italicized text\n",
      "   </i>\n",
      "  </p>\n",
      "  <h2>\n",
      "   Another header\n",
      "  </h2>\n",
      "  <p id=\"paragraph-id\">\n",
      "   <b>\n",
      "    Some bold text\n",
      "   </b>\n",
      "  </p>\n",
      " </body>\n",
      "</html>\n",
      "\n"
     ]
    }
   ],
   "source": [
    "# Load the webpage content\n",
    "r = requests.get(\"https://keithgalli.github.io/web-scraping/example.html\")\n",
    "\n",
    "# Convert to beautiful soup object \n",
    "soup = bs(r.content) # getting HTML of the webpage \n",
    "\n",
    "# Print out HTML\n",
    "print(soup.prettify())\n"
   ]
  },
  {
   "cell_type": "markdown",
   "id": "8fa91bc3-10ad-4c27-a1d9-d6f41ab729ca",
   "metadata": {},
   "source": [
    "# Start using Beautiful Soup for Scraping 🍲"
   ]
  },
  {
   "cell_type": "markdown",
   "id": "f9a5690d-59c2-4a1d-bb03-08a643a78810",
   "metadata": {},
   "source": [
    "## **find and find_all**"
   ]
  },
  {
   "cell_type": "code",
   "execution_count": 4,
   "id": "f60fe34e-2424-435e-aa76-6bfb061a6202",
   "metadata": {},
   "outputs": [
    {
     "data": {
      "text/plain": [
       "<h2>A Header</h2>"
      ]
     },
     "execution_count": 4,
     "metadata": {},
     "output_type": "execute_result"
    }
   ],
   "source": [
    "first_header = soup.find(\"h2\")\n",
    "# find - only first instance \n",
    "first_header"
   ]
  },
  {
   "cell_type": "code",
   "execution_count": 5,
   "id": "c17d7327-244d-443f-8acc-f7b33272d7ba",
   "metadata": {},
   "outputs": [
    {
     "data": {
      "text/plain": [
       "[<h2>A Header</h2>, <h2>Another header</h2>]"
      ]
     },
     "execution_count": 5,
     "metadata": {},
     "output_type": "execute_result"
    }
   ],
   "source": [
    "headers = soup.find_all(\"h2\")\n",
    "# find_all - all instances\n",
    "headers"
   ]
  },
  {
   "cell_type": "markdown",
   "id": "5fd7e36a-69ca-4fe7-a5e8-6cf91f88abf7",
   "metadata": {},
   "source": [
    " ## pass a list "
   ]
  },
  {
   "cell_type": "code",
   "execution_count": 6,
   "id": "d4e52551-0784-48f4-a10d-d815386acbc2",
   "metadata": {},
   "outputs": [
    {
     "data": {
      "text/plain": [
       "<h1>HTML Webpage</h1>"
      ]
     },
     "execution_count": 6,
     "metadata": {},
     "output_type": "execute_result"
    }
   ],
   "source": [
    "first_header = soup.find([\"h1\", \"h2\"])\n",
    "first_header"
   ]
  },
  {
   "cell_type": "code",
   "execution_count": 7,
   "id": "ef4afcf7-6b26-4fb3-b753-f6849eb192af",
   "metadata": {},
   "outputs": [
    {
     "data": {
      "text/plain": [
       "[<h1>HTML Webpage</h1>, <h2>A Header</h2>, <h2>Another header</h2>]"
      ]
     },
     "execution_count": 7,
     "metadata": {},
     "output_type": "execute_result"
    }
   ],
   "source": [
    "headers = soup.find_all([\"h1\", \"h2\"])\n",
    "headers"
   ]
  },
  {
   "cell_type": "markdown",
   "id": "aa429060-893d-43a3-a46a-f66480d28c5c",
   "metadata": {},
   "source": [
    "## pass an attribute \"attrs\" of the HTML tag"
   ]
  },
  {
   "cell_type": "code",
   "execution_count": 8,
   "id": "e6509b0d-54ae-4296-b3b6-1b0198b6954d",
   "metadata": {
    "tags": []
   },
   "outputs": [
    {
     "data": {
      "text/plain": [
       "[<p>Link to more interesting example: <a href=\"https://keithgalli.github.io/web-scraping/webpage.html\">keithgalli.github.io/web-scraping/webpage.html</a></p>,\n",
       " <p><i>Some italicized text</i></p>,\n",
       " <p id=\"paragraph-id\"><b>Some bold text</b></p>]"
      ]
     },
     "execution_count": 8,
     "metadata": {},
     "output_type": "execute_result"
    }
   ],
   "source": [
    "# Pass in attributes to the find / find_all function\n",
    "paragraph = soup.find_all(\"p\")\n",
    "paragraph"
   ]
  },
  {
   "cell_type": "code",
   "execution_count": 9,
   "id": "b0bc1e3a-7d83-4692-8ee0-e3d9d91675ab",
   "metadata": {
    "tags": []
   },
   "outputs": [
    {
     "data": {
      "text/plain": [
       "[<p id=\"paragraph-id\"><b>Some bold text</b></p>]"
      ]
     },
     "execution_count": 9,
     "metadata": {},
     "output_type": "execute_result"
    }
   ],
   "source": [
    "paragraph = soup.find_all(\"p\", attrs = {\"id\":\"paragraph-id\"})\n",
    "paragraph"
   ]
  },
  {
   "cell_type": "markdown",
   "id": "ab898162-6c33-4ceb-898f-13309863fe8e",
   "metadata": {},
   "source": [
    "## nesting"
   ]
  },
  {
   "cell_type": "code",
   "execution_count": 10,
   "id": "ec5684c8-dddb-4a93-9951-e9192893d5ea",
   "metadata": {
    "tags": []
   },
   "outputs": [
    {
     "data": {
      "text/plain": [
       "<h1>HTML Webpage</h1>"
      ]
     },
     "execution_count": 10,
     "metadata": {},
     "output_type": "execute_result"
    }
   ],
   "source": [
    "# Find all / find nesting \n",
    "\n",
    "body = soup.find(\"body\")\n",
    "div = body.find(\"div\")\n",
    "header = div.find(\"h1\")\n",
    "header"
   ]
  },
  {
   "cell_type": "markdown",
   "id": "98794c86-a13d-4a4d-9ccc-6ca3c21abdab",
   "metadata": {},
   "source": [
    "\n",
    "## finding strings using \"string\" and regex"
   ]
  },
  {
   "cell_type": "code",
   "execution_count": 11,
   "id": "b856f2e2-7137-402a-b6e6-0850d637e4c6",
   "metadata": {
    "tags": []
   },
   "outputs": [
    {
     "data": {
      "text/plain": [
       "[<p><i>Some italicized text</i></p>,\n",
       " <p id=\"paragraph-id\"><b>Some bold text</b></p>]"
      ]
     },
     "execution_count": 11,
     "metadata": {},
     "output_type": "execute_result"
    }
   ],
   "source": [
    "# Specific strings in find/ find all funcion \n",
    "\n",
    "par = soup.find_all(\"p\", string = re.compile(\"Some\"))\n",
    "par"
   ]
  },
  {
   "cell_type": "code",
   "execution_count": 12,
   "id": "e5b116a8-ca17-4a08-8300-592ef6b02aa5",
   "metadata": {},
   "outputs": [
    {
     "data": {
      "text/plain": [
       "[<h2>A Header</h2>, <h2>Another header</h2>]"
      ]
     },
     "execution_count": 12,
     "metadata": {},
     "output_type": "execute_result"
    }
   ],
   "source": [
    "par_2 = soup.find_all(\"h2\", string = re.compile(\"(H|h)eader\"))\n",
    "par_2"
   ]
  },
  {
   "cell_type": "markdown",
   "id": "4745ea74-dd27-4631-95f5-784b96588de9",
   "metadata": {},
   "source": [
    "## **Select (CSS selector)**"
   ]
  },
  {
   "cell_type": "markdown",
   "id": "7c701a37-75dd-4962-b9ed-31a59a1efc6d",
   "metadata": {},
   "source": [
    "### LOGIC BEHIND SELECT IS PRETTY MUCH ABOUT CSS SELECTORS\n",
    "## [Link to CSS selectors](https://www.w3schools.com/cssref/css_selectors.php)"
   ]
  },
  {
   "cell_type": "code",
   "execution_count": 13,
   "id": "900247fc-0e06-43bd-b9b4-19cbc8f13aae",
   "metadata": {
    "tags": []
   },
   "outputs": [
    {
     "name": "stdout",
     "output_type": "stream",
     "text": [
      "<body>\n",
      " <div align=\"middle\">\n",
      "  <h1>\n",
      "   HTML Webpage\n",
      "  </h1>\n",
      "  <p>\n",
      "   Link to more interesting example:\n",
      "   <a href=\"https://keithgalli.github.io/web-scraping/webpage.html\">\n",
      "    keithgalli.github.io/web-scraping/webpage.html\n",
      "   </a>\n",
      "  </p>\n",
      " </div>\n",
      " <h2>\n",
      "  A Header\n",
      " </h2>\n",
      " <p>\n",
      "  <i>\n",
      "   Some italicized text\n",
      "  </i>\n",
      " </p>\n",
      " <h2>\n",
      "  Another header\n",
      " </h2>\n",
      " <p id=\"paragraph-id\">\n",
      "  <b>\n",
      "   Some bold text\n",
      "  </b>\n",
      " </p>\n",
      "</body>\n",
      "\n"
     ]
    }
   ],
   "source": [
    "print(soup.body.prettify())"
   ]
  },
  {
   "cell_type": "markdown",
   "id": "d0b70b9c-9404-444e-b455-0735d105ae4b",
   "metadata": {},
   "source": [
    "## Descendants (all elements inside the teg)"
   ]
  },
  {
   "cell_type": "code",
   "execution_count": 14,
   "id": "03187ed5-6788-4fb8-8c37-44778d30935d",
   "metadata": {
    "tags": []
   },
   "outputs": [
    {
     "data": {
      "text/plain": [
       "[<p>Link to more interesting example: <a href=\"https://keithgalli.github.io/web-scraping/webpage.html\">keithgalli.github.io/web-scraping/webpage.html</a></p>,\n",
       " <p><i>Some italicized text</i></p>,\n",
       " <p id=\"paragraph-id\"><b>Some bold text</b></p>]"
      ]
     },
     "execution_count": 14,
     "metadata": {},
     "output_type": "execute_result"
    }
   ],
   "source": [
    "# select can look through many tegs\n",
    "content = soup.select(\"body p\")\n",
    "content"
   ]
  },
  {
   "cell_type": "markdown",
   "id": "e26b5933-4015-45d1-94d7-3bfcc5641a5a",
   "metadata": {},
   "source": [
    "## Direct children elements (elements that are nested ONLY 1 level deeper inside parent teg)"
   ]
  },
  {
   "cell_type": "code",
   "execution_count": 15,
   "id": "07a3d7f5-0650-4496-9e47-ab3de3ccc278",
   "metadata": {
    "tags": []
   },
   "outputs": [
    {
     "data": {
      "text/plain": [
       "[<p><i>Some italicized text</i></p>,\n",
       " <p id=\"paragraph-id\"><b>Some bold text</b></p>]"
      ]
     },
     "execution_count": 15,
     "metadata": {},
     "output_type": "execute_result"
    }
   ],
   "source": [
    "paragraphs = soup.select(\"body > p\")\n",
    "paragraphs"
   ]
  },
  {
   "cell_type": "markdown",
   "id": "debae74f-8bc5-41ce-885c-574d76085717",
   "metadata": {},
   "source": [
    "## Sibling element (that are on the same level and share same parent)"
   ]
  },
  {
   "cell_type": "code",
   "execution_count": 16,
   "id": "dabe33dd-5962-4a0f-8f15-1942d83c66f7",
   "metadata": {
    "tags": []
   },
   "outputs": [
    {
     "data": {
      "text/plain": [
       "[<p><i>Some italicized text</i></p>,\n",
       " <p id=\"paragraph-id\"><b>Some bold text</b></p>]"
      ]
     },
     "execution_count": 16,
     "metadata": {},
     "output_type": "execute_result"
    }
   ],
   "source": [
    "# select can look what teg goes after this teg - on the same level\n",
    "parag = soup.select(\"h2 ~ p\") # looking for p that goes just after h2 \n",
    "parag"
   ]
  },
  {
   "cell_type": "markdown",
   "id": "3200c732-5383-4162-af64-180bee244ea8",
   "metadata": {},
   "source": [
    "## Selecting by #identefier"
   ]
  },
  {
   "cell_type": "code",
   "execution_count": 17,
   "id": "9dedcca0-9529-47bc-9a56-65eac7d44d26",
   "metadata": {
    "tags": []
   },
   "outputs": [
    {
     "data": {
      "text/plain": [
       "[<b>Some bold text</b>]"
      ]
     },
     "execution_count": 17,
     "metadata": {},
     "output_type": "execute_result"
    }
   ],
   "source": [
    "bold_text = soup.select(\"p#paragraph-id b\")\n",
    "bold_text"
   ]
  },
  {
   "cell_type": "code",
   "execution_count": 18,
   "id": "48a23c56-12b4-49e1-92ea-a1bf0e40d0b0",
   "metadata": {
    "tags": []
   },
   "outputs": [
    {
     "name": "stdout",
     "output_type": "stream",
     "text": [
      "[<p>Link to more interesting example: <a href=\"https://keithgalli.github.io/web-scraping/webpage.html\">keithgalli.github.io/web-scraping/webpage.html</a></p>, <p><i>Some italicized text</i></p>, <p id=\"paragraph-id\"><b>Some bold text</b></p>]\n",
      "[<a href=\"https://keithgalli.github.io/web-scraping/webpage.html\">keithgalli.github.io/web-scraping/webpage.html</a>]\n",
      "[]\n",
      "[]\n"
     ]
    }
   ],
   "source": [
    "paragraphs = soup.select(\"body p\")\n",
    "print(paragraphs)\n",
    "\n",
    "for p in paragraphs:\n",
    "    print(p.select(\"a\"))\n"
   ]
  },
  {
   "cell_type": "markdown",
   "id": "c3582e02-134a-4ea6-9058-bbe397e59286",
   "metadata": {},
   "source": [
    "## **Getting different properties of HTML**"
   ]
  },
  {
   "cell_type": "markdown",
   "id": "23aa6489-b92b-4cca-8d07-48824c22bb42",
   "metadata": {},
   "source": [
    "### Getting string"
   ]
  },
  {
   "cell_type": "code",
   "execution_count": 19,
   "id": "c0fe941c-ca0b-46c0-93f5-0d159f81ecd5",
   "metadata": {
    "tags": []
   },
   "outputs": [
    {
     "data": {
      "text/plain": [
       "'A Header'"
      ]
     },
     "execution_count": 19,
     "metadata": {},
     "output_type": "execute_result"
    }
   ],
   "source": [
    "# we can print out only text from the teg\n",
    "header = soup.find(\"h2\")\n",
    "header.string"
   ]
  },
  {
   "cell_type": "markdown",
   "id": "7e6146c4-c7ca-45b5-9376-237eb47fc2f8",
   "metadata": {},
   "source": [
    "### with bigger tegs like div or body - .string does not work. \n",
    "### instead we should use get_text()"
   ]
  },
  {
   "cell_type": "code",
   "execution_count": 20,
   "id": "99fc4bae-1765-4d6d-8521-113385eda1b6",
   "metadata": {
    "tags": []
   },
   "outputs": [
    {
     "name": "stdout",
     "output_type": "stream",
     "text": [
      "<div align=\"middle\">\n",
      " <h1>\n",
      "  HTML Webpage\n",
      " </h1>\n",
      " <p>\n",
      "  Link to more interesting example:\n",
      "  <a href=\"https://keithgalli.github.io/web-scraping/webpage.html\">\n",
      "   keithgalli.github.io/web-scraping/webpage.html\n",
      "  </a>\n",
      " </p>\n",
      "</div>\n",
      "\n",
      "None\n"
     ]
    }
   ],
   "source": [
    "div = soup.find(\"div\")\n",
    "print(div.prettify())\n",
    "print(div.string)"
   ]
  },
  {
   "cell_type": "code",
   "execution_count": 21,
   "id": "6aa432d9-c202-4c11-97df-f49d65f81f1f",
   "metadata": {
    "tags": []
   },
   "outputs": [
    {
     "name": "stdout",
     "output_type": "stream",
     "text": [
      "\n",
      "HTML Webpage\n",
      "Link to more interesting example: keithgalli.github.io/web-scraping/webpage.html\n",
      "\n"
     ]
    }
   ],
   "source": [
    "# using get_text()\n",
    "print(div.get_text())"
   ]
  },
  {
   "cell_type": "markdown",
   "id": "f100d4e0-e060-4323-94b7-b802f63c6ae7",
   "metadata": {},
   "source": [
    "## **Get a specific property from an element**"
   ]
  },
  {
   "cell_type": "markdown",
   "id": "21489702-19f0-4058-be81-83a8d079cb6e",
   "metadata": {},
   "source": [
    "### Link"
   ]
  },
  {
   "cell_type": "code",
   "execution_count": 22,
   "id": "572e0020-fabe-4db3-8a81-667c837ccbdf",
   "metadata": {
    "tags": []
   },
   "outputs": [
    {
     "data": {
      "text/plain": [
       "<a href=\"https://keithgalli.github.io/web-scraping/webpage.html\">keithgalli.github.io/web-scraping/webpage.html</a>"
      ]
     },
     "execution_count": 22,
     "metadata": {},
     "output_type": "execute_result"
    }
   ],
   "source": [
    "a = soup.find(\"a\")\n",
    "a"
   ]
  },
  {
   "cell_type": "code",
   "execution_count": 23,
   "id": "6eac6324-fd2b-4126-a15a-d515ec4fc9ec",
   "metadata": {
    "tags": []
   },
   "outputs": [
    {
     "data": {
      "text/plain": [
       "'https://keithgalli.github.io/web-scraping/webpage.html'"
      ]
     },
     "execution_count": 23,
     "metadata": {},
     "output_type": "execute_result"
    }
   ],
   "source": [
    "# to select only link (href property) we must use [\"href\"]\n",
    "a[\"href\"]"
   ]
  },
  {
   "cell_type": "markdown",
   "id": "38f049b6-31e1-4ecd-a39f-749bac0a5570",
   "metadata": {},
   "source": [
    "### Id"
   ]
  },
  {
   "cell_type": "code",
   "execution_count": 24,
   "id": "b7881dda-0386-44c9-9a3d-2ea2e249554f",
   "metadata": {
    "tags": []
   },
   "outputs": [
    {
     "data": {
      "text/plain": [
       "'paragraph-id'"
      ]
     },
     "execution_count": 24,
     "metadata": {},
     "output_type": "execute_result"
    }
   ],
   "source": [
    "paragraph = soup.select(\"p#paragraph-id\")\n",
    "# to select id, we should get the first element of the list (because select returns list) and then use [\"id\"]\n",
    "paragraph[0][\"id\"]"
   ]
  },
  {
   "cell_type": "markdown",
   "id": "63bd475f-4fba-4325-a14f-56e0cd58437a",
   "metadata": {},
   "source": [
    "## **Code navigation**"
   ]
  },
  {
   "cell_type": "markdown",
   "id": "7cd9d74b-513e-4180-b376-848c862d4a2a",
   "metadata": {},
   "source": [
    "### Path Syntax"
   ]
  },
  {
   "cell_type": "code",
   "execution_count": 25,
   "id": "3f67b8cf-9b1b-464d-b6c2-98a128428d37",
   "metadata": {
    "tags": []
   },
   "outputs": [
    {
     "data": {
      "text/plain": [
       "'HTML Webpage'"
      ]
     },
     "execution_count": 25,
     "metadata": {},
     "output_type": "execute_result"
    }
   ],
   "source": [
    "soup.body.div.h1.string"
   ]
  },
  {
   "cell_type": "markdown",
   "id": "4f60cf9f-562b-42cb-a09f-b9a0b1957a08",
   "metadata": {},
   "source": [
    "### Know 3 terms: parent, sibling and child"
   ]
  },
  {
   "cell_type": "code",
   "execution_count": 26,
   "id": "213c6198-b9c0-4903-b355-fba87bee9a1d",
   "metadata": {
    "tags": []
   },
   "outputs": [
    {
     "name": "stdout",
     "output_type": "stream",
     "text": [
      "<body>\n",
      " <div align=\"middle\">\n",
      "  <h1>\n",
      "   HTML Webpage\n",
      "  </h1>\n",
      "  <p>\n",
      "   Link to more interesting example:\n",
      "   <a href=\"https://keithgalli.github.io/web-scraping/webpage.html\">\n",
      "    keithgalli.github.io/web-scraping/webpage.html\n",
      "   </a>\n",
      "  </p>\n",
      " </div>\n",
      " <h2>\n",
      "  A Header\n",
      " </h2>\n",
      " <p>\n",
      "  <i>\n",
      "   Some italicized text\n",
      "  </i>\n",
      " </p>\n",
      " <h2>\n",
      "  Another header\n",
      " </h2>\n",
      " <p id=\"paragraph-id\">\n",
      "  <b>\n",
      "   Some bold text\n",
      "  </b>\n",
      " </p>\n",
      "</body>\n",
      "\n"
     ]
    }
   ],
   "source": [
    "print(soup.body.prettify())"
   ]
  },
  {
   "cell_type": "markdown",
   "id": "f3a63988-a0d8-4a32-9c68-c7b64a858dda",
   "metadata": {},
   "source": [
    "### Find_next_siblings(sibling) and find_previous_siblings(sibling)"
   ]
  },
  {
   "cell_type": "code",
   "execution_count": 27,
   "id": "43954d1b-fd5b-45d5-bf80-db2cd1946bf6",
   "metadata": {
    "tags": []
   },
   "outputs": [
    {
     "data": {
      "text/plain": [
       "[<h2>A Header</h2>,\n",
       " <p><i>Some italicized text</i></p>,\n",
       " <h2>Another header</h2>,\n",
       " <p id=\"paragraph-id\"><b>Some bold text</b></p>]"
      ]
     },
     "execution_count": 27,
     "metadata": {},
     "output_type": "execute_result"
    }
   ],
   "source": [
    "# find next siblings \n",
    "soup.body.find(\"div\").find_next_siblings()"
   ]
  },
  {
   "cell_type": "markdown",
   "id": "29119863-fe98-46d4-b6a9-e8954327e917",
   "metadata": {},
   "source": [
    "# **Exercises! 😇**"
   ]
  },
  {
   "cell_type": "markdown",
   "id": "8e24497b-7264-456e-898c-1e6d8bb841ab",
   "metadata": {},
   "source": [
    "## [New_Web_Page](https://keithgalli.github.io/web-scraping/webpage.html)"
   ]
  },
  {
   "cell_type": "markdown",
   "id": "371954ac-abe8-4b88-9048-d866a048afc3",
   "metadata": {},
   "source": [
    "### Load the webpage:"
   ]
  },
  {
   "cell_type": "code",
   "execution_count": null,
   "id": "c6f65e15-eddb-4131-a80f-2d9d2bf848b0",
   "metadata": {
    "tags": []
   },
   "outputs": [],
   "source": [
    "# Load the webpage content\n",
    "q = requests.get(\"https://keithgalli.github.io/web-scraping/webpage.html\")\n",
    "\n",
    "# Convert to beautiful soup object \n",
    "web = bs(q.content) # getting HTML of the webpage \n",
    "\n",
    "# Print out HTML\n",
    "print(web.prettify())"
   ]
  },
  {
   "cell_type": "markdown",
   "id": "7afe090f-49f0-480a-b477-fb834ea02cc4",
   "metadata": {},
   "source": [
    "### **1.Grab all the social links (only social networks) from the webpage in 3 different ways 📷**"
   ]
  },
  {
   "cell_type": "code",
   "execution_count": 57,
   "id": "dc812390-1eea-43a6-9bf1-8688267b63b4",
   "metadata": {
    "tags": []
   },
   "outputs": [
    {
     "data": {
      "text/plain": [
       "['https://www.instagram.com/keithgalli/',\n",
       " 'https://twitter.com/keithgalli',\n",
       " 'https://www.linkedin.com/in/keithgalli/',\n",
       " 'https://www.tiktok.com/@keithgalli']"
      ]
     },
     "execution_count": 57,
     "metadata": {},
     "output_type": "execute_result"
    }
   ],
   "source": [
    "# 1 using find_all \n",
    "# we have class social \n",
    "ulist = web.find(\"ul\", attrs = {\"class\": \"socials\"})\n",
    "alist = ulist.find_all(\"a\")\n",
    "actual_links = [link[\"href\"] for link in alist]\n",
    "actual_links\n",
    "# links = links.fin\n",
    "\n",
    "# for links in links:\n",
    "#     link\n",
    "# links"
   ]
  },
  {
   "cell_type": "code",
   "execution_count": 35,
   "id": "f6061cf1-6eb4-4817-9648-5d6593192379",
   "metadata": {
    "tags": []
   },
   "outputs": [
    {
     "data": {
      "text/plain": [
       "['https://www.instagram.com/keithgalli/',\n",
       " 'https://twitter.com/keithgalli',\n",
       " 'https://www.linkedin.com/in/keithgalli/',\n",
       " 'https://www.tiktok.com/@keithgalli']"
      ]
     },
     "execution_count": 35,
     "metadata": {},
     "output_type": "execute_result"
    }
   ],
   "source": [
    "# 2 using select - all social links have class: social \n",
    "# . is for class and # is for id\n",
    "links = web.select(\"ul.socials a\")\n",
    "[link[\"href\"] for link in links]\n",
    "        "
   ]
  },
  {
   "cell_type": "code",
   "execution_count": 62,
   "id": "93a9b13b-2775-4e18-ba8d-43de216f2bd0",
   "metadata": {},
   "outputs": [
    {
     "data": {
      "text/plain": [
       "['https://www.instagram.com/keithgalli/',\n",
       " 'https://twitter.com/keithgalli',\n",
       " 'https://www.linkedin.com/in/keithgalli/',\n",
       " 'https://www.tiktok.com/@keithgalli']"
      ]
     },
     "execution_count": 62,
     "metadata": {},
     "output_type": "execute_result"
    }
   ],
   "source": [
    "# 3 using nested select \n",
    "links = web.select(\"li.social a\")\n",
    "actual_links = [link[\"href\"] for link in links]\n",
    "actual_links"
   ]
  },
  {
   "cell_type": "markdown",
   "id": "8f6a52b9-b622-411b-a217-44a6dd250f55",
   "metadata": {},
   "source": [
    "### **2. Scrape the table 📋**"
   ]
  },
  {
   "cell_type": "code",
   "execution_count": null,
   "id": "2f4fe5f6-838f-42b2-8b70-68d68f66a66e",
   "metadata": {},
   "outputs": [],
   "source": [
    "table = web.select(\"table.hockey-stats\")[0]\n",
    "print(table.prettify())"
   ]
  },
  {
   "cell_type": "markdown",
   "id": "c43f313f-1fdd-4518-853a-377706fa86ba",
   "metadata": {},
   "source": [
    "### Columns"
   ]
  },
  {
   "cell_type": "code",
   "execution_count": 71,
   "id": "12403c37-ce9f-4fc1-84ce-b8db8b868e2f",
   "metadata": {},
   "outputs": [
    {
     "data": {
      "text/plain": [
       "[<th class=\"season\" data-sort=\"\">S</th>,\n",
       " <th class=\"team\" data-sort=\"team\">Team</th>,\n",
       " <th class=\"league\" data-sort=\"league\">League</th>,\n",
       " <th class=\"regular gp\" data-sort=\"gp\">GP</th>,\n",
       " <th class=\"regular g\" data-sort=\"g\">G</th>,\n",
       " <th class=\"regular a\" data-sort=\"a\">A</th>,\n",
       " <th class=\"regular tp\" data-sort=\"tp\">TP</th>,\n",
       " <th class=\"regular pim\" data-sort=\"pim\">PIM</th>,\n",
       " <th class=\"regular pm\" data-sort=\"pm\">+/-</th>,\n",
       " <th class=\"separator\"> </th>,\n",
       " <th class=\"postseason\">POST</th>,\n",
       " <th class=\"postseason gp\" data-sort=\"playoffs-gp\">GP</th>,\n",
       " <th class=\"postseason g\" data-sort=\"playoffs-g\">G</th>,\n",
       " <th class=\"postseason a\" data-sort=\"playoffs-a\">A</th>,\n",
       " <th class=\"postseason tp\" data-sort=\"playoffs-tp\">TP</th>,\n",
       " <th class=\"postseason pim\" data-sort=\"playoffs-pim\">PIM</th>,\n",
       " <th class=\"postseason pm\" data-sort=\"playoffs-pm\">+/-</th>]"
      ]
     },
     "execution_count": 71,
     "metadata": {},
     "output_type": "execute_result"
    }
   ],
   "source": [
    "columns = table.find(\"thead\").find_all(\"th\")\n",
    "columns"
   ]
  },
  {
   "cell_type": "markdown",
   "id": "34844d8e-f814-48e8-8b19-ed247a0ebc60",
   "metadata": {},
   "source": [
    "### Column_names"
   ]
  },
  {
   "cell_type": "code",
   "execution_count": 77,
   "id": "6265e76e-5d6a-48d4-b801-08fd7917d069",
   "metadata": {
    "tags": []
   },
   "outputs": [
    {
     "data": {
      "text/plain": [
       "['S',\n",
       " 'Team',\n",
       " 'League',\n",
       " 'GP',\n",
       " 'G',\n",
       " 'A',\n",
       " 'TP',\n",
       " 'PIM',\n",
       " '+/-',\n",
       " '\\xa0',\n",
       " 'POST',\n",
       " 'GP',\n",
       " 'G',\n",
       " 'A',\n",
       " 'TP',\n",
       " 'PIM',\n",
       " '+/-']"
      ]
     },
     "execution_count": 77,
     "metadata": {},
     "output_type": "execute_result"
    }
   ],
   "source": [
    "column_names = [column.text for column in columns]\n",
    "column_names"
   ]
  },
  {
   "cell_type": "markdown",
   "id": "a3d35950-0302-4831-9a7b-564aac2f57b7",
   "metadata": {},
   "source": [
    "### Rows"
   ]
  },
  {
   "cell_type": "code",
   "execution_count": null,
   "id": "4dbf832e-828b-49f7-8124-511bc07c6e87",
   "metadata": {
    "tags": []
   },
   "outputs": [],
   "source": [
    "\n",
    "table_rows = table.find(\"tbody\").find_all(\"tr\")\n",
    "table_rows"
   ]
  },
  {
   "cell_type": "markdown",
   "id": "1a9562dc-e9fc-494f-bafa-a942db6e3ec6",
   "metadata": {},
   "source": [
    "### Code from StackOverFlow about scraping the table "
   ]
  },
  {
   "cell_type": "code",
   "execution_count": 84,
   "id": "dff84118-a0a2-45ba-ade2-4aa0da9f440d",
   "metadata": {
    "tags": []
   },
   "outputs": [
    {
     "data": {
      "text/html": [
       "<div>\n",
       "<style scoped>\n",
       "    .dataframe tbody tr th:only-of-type {\n",
       "        vertical-align: middle;\n",
       "    }\n",
       "\n",
       "    .dataframe tbody tr th {\n",
       "        vertical-align: top;\n",
       "    }\n",
       "\n",
       "    .dataframe thead th {\n",
       "        text-align: right;\n",
       "    }\n",
       "</style>\n",
       "<table border=\"1\" class=\"dataframe\">\n",
       "  <thead>\n",
       "    <tr style=\"text-align: right;\">\n",
       "      <th></th>\n",
       "      <th>S</th>\n",
       "      <th>Team</th>\n",
       "      <th>League</th>\n",
       "      <th>GP</th>\n",
       "      <th>G</th>\n",
       "      <th>A</th>\n",
       "      <th>TP</th>\n",
       "      <th>PIM</th>\n",
       "      <th>+/-</th>\n",
       "      <th></th>\n",
       "      <th>POST</th>\n",
       "      <th>GP</th>\n",
       "      <th>G</th>\n",
       "      <th>A</th>\n",
       "      <th>TP</th>\n",
       "      <th>PIM</th>\n",
       "      <th>+/-</th>\n",
       "    </tr>\n",
       "  </thead>\n",
       "  <tbody>\n",
       "    <tr>\n",
       "      <th>0</th>\n",
       "      <td>2014-15</td>\n",
       "      <td>MIT (Mass. Inst. of Tech.)</td>\n",
       "      <td>ACHA II</td>\n",
       "      <td>17</td>\n",
       "      <td>3</td>\n",
       "      <td>9</td>\n",
       "      <td>12</td>\n",
       "      <td>20</td>\n",
       "      <td></td>\n",
       "      <td>|</td>\n",
       "      <td></td>\n",
       "      <td></td>\n",
       "      <td></td>\n",
       "      <td></td>\n",
       "      <td></td>\n",
       "      <td></td>\n",
       "      <td></td>\n",
       "    </tr>\n",
       "    <tr>\n",
       "      <th>1</th>\n",
       "      <td>2015-16</td>\n",
       "      <td>MIT (Mass. Inst. of Tech.)</td>\n",
       "      <td>ACHA II</td>\n",
       "      <td>9</td>\n",
       "      <td>1</td>\n",
       "      <td>1</td>\n",
       "      <td>2</td>\n",
       "      <td>2</td>\n",
       "      <td></td>\n",
       "      <td>|</td>\n",
       "      <td></td>\n",
       "      <td></td>\n",
       "      <td></td>\n",
       "      <td></td>\n",
       "      <td></td>\n",
       "      <td></td>\n",
       "      <td></td>\n",
       "    </tr>\n",
       "    <tr>\n",
       "      <th>2</th>\n",
       "      <td>2016-17</td>\n",
       "      <td>MIT (Mass. Inst. of Tech.)</td>\n",
       "      <td>ACHA II</td>\n",
       "      <td>12</td>\n",
       "      <td>5</td>\n",
       "      <td>5</td>\n",
       "      <td>10</td>\n",
       "      <td>8</td>\n",
       "      <td>0</td>\n",
       "      <td>|</td>\n",
       "      <td></td>\n",
       "      <td></td>\n",
       "      <td></td>\n",
       "      <td></td>\n",
       "      <td></td>\n",
       "      <td></td>\n",
       "      <td></td>\n",
       "    </tr>\n",
       "    <tr>\n",
       "      <th>3</th>\n",
       "      <td>2017-18</td>\n",
       "      <td>Did not play</td>\n",
       "      <td></td>\n",
       "      <td></td>\n",
       "      <td></td>\n",
       "      <td></td>\n",
       "      <td></td>\n",
       "      <td></td>\n",
       "      <td></td>\n",
       "      <td>|</td>\n",
       "      <td></td>\n",
       "      <td></td>\n",
       "      <td></td>\n",
       "      <td></td>\n",
       "      <td></td>\n",
       "      <td></td>\n",
       "      <td></td>\n",
       "    </tr>\n",
       "    <tr>\n",
       "      <th>4</th>\n",
       "      <td>2018-19</td>\n",
       "      <td>MIT (Mass. Inst. of Tech.)</td>\n",
       "      <td>ACHA III</td>\n",
       "      <td>8</td>\n",
       "      <td>5</td>\n",
       "      <td>10</td>\n",
       "      <td>15</td>\n",
       "      <td>8</td>\n",
       "      <td></td>\n",
       "      <td>|</td>\n",
       "      <td></td>\n",
       "      <td></td>\n",
       "      <td></td>\n",
       "      <td></td>\n",
       "      <td></td>\n",
       "      <td></td>\n",
       "      <td></td>\n",
       "    </tr>\n",
       "  </tbody>\n",
       "</table>\n",
       "</div>"
      ],
      "text/plain": [
       "         S                        Team    League  GP  G   A  TP PIM +/-     \\\n",
       "0  2014-15  MIT (Mass. Inst. of Tech.)   ACHA II  17  3   9  12  20      |   \n",
       "1  2015-16  MIT (Mass. Inst. of Tech.)   ACHA II   9  1   1   2   2      |   \n",
       "2  2016-17  MIT (Mass. Inst. of Tech.)   ACHA II  12  5   5  10   8   0  |   \n",
       "3  2017-18                Did not play                                   |   \n",
       "4  2018-19  MIT (Mass. Inst. of Tech.)  ACHA III   8  5  10  15   8      |   \n",
       "\n",
       "  POST GP G A TP PIM +/-  \n",
       "0                         \n",
       "1                         \n",
       "2                         \n",
       "3                         \n",
       "4                         "
      ]
     },
     "execution_count": 84,
     "metadata": {},
     "output_type": "execute_result"
    }
   ],
   "source": [
    "l = []\n",
    "for tr in table_rows:\n",
    "    td = tr.find_all('td')\n",
    "    row = [str(tr.get_text()).strip() for tr in td]\n",
    "    l.append(row)\n",
    "df = pd.DataFrame(l, columns = column_names)\n",
    "df\n"
   ]
  },
  {
   "cell_type": "markdown",
   "id": "877361e0-811e-43a6-935c-5db602c606a1",
   "metadata": {},
   "source": [
    "## **3. Grab all the fan facts that use word \"is\" in it 😜**"
   ]
  },
  {
   "cell_type": "code",
   "execution_count": null,
   "id": "d27b5540-2576-483a-bff9-fb7cddf3c144",
   "metadata": {},
   "outputs": [],
   "source": []
  },
  {
   "cell_type": "code",
   "execution_count": null,
   "id": "1ec62f73-d3ff-433d-9f0e-f986577d0e08",
   "metadata": {},
   "outputs": [],
   "source": []
  },
  {
   "cell_type": "code",
   "execution_count": null,
   "id": "710b1e39-2f48-4b8c-b5b0-0598b358ada7",
   "metadata": {},
   "outputs": [],
   "source": []
  },
  {
   "cell_type": "code",
   "execution_count": null,
   "id": "36f9535d-c5ac-4c71-8d32-dabca568d37c",
   "metadata": {},
   "outputs": [],
   "source": []
  },
  {
   "cell_type": "code",
   "execution_count": null,
   "id": "27305765-9650-44ba-9229-c14cc216d849",
   "metadata": {},
   "outputs": [],
   "source": []
  },
  {
   "cell_type": "code",
   "execution_count": null,
   "id": "099f1bbe-6453-4216-8547-0ba2575cb010",
   "metadata": {},
   "outputs": [],
   "source": []
  }
 ],
 "metadata": {
  "kernelspec": {
   "display_name": "Python 3 (ipykernel)",
   "language": "python",
   "name": "python3"
  },
  "language_info": {
   "codemirror_mode": {
    "name": "ipython",
    "version": 3
   },
   "file_extension": ".py",
   "mimetype": "text/x-python",
   "name": "python",
   "nbconvert_exporter": "python",
   "pygments_lexer": "ipython3",
   "version": "3.13.0"
  }
 },
 "nbformat": 4,
 "nbformat_minor": 5
}
